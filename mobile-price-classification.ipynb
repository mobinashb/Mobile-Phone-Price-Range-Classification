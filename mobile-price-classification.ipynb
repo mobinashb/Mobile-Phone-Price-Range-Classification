{
 "cells": [
  {
   "cell_type": "code",
   "execution_count": 1,
   "metadata": {
    "_cell_guid": "b1076dfc-b9ad-4769-8c92-a6c4dae69d19",
    "_uuid": "8f2839f25d086af736a60e9eeb907d3b93b6e0e5",
    "execution": {
     "iopub.execute_input": "2020-11-18T17:35:09.007374Z",
     "iopub.status.busy": "2020-11-18T17:35:09.006379Z",
     "iopub.status.idle": "2020-11-18T17:35:09.016047Z",
     "shell.execute_reply": "2020-11-18T17:35:09.015105Z"
    },
    "papermill": {
     "duration": 0.039381,
     "end_time": "2020-11-18T17:35:09.016243",
     "exception": false,
     "start_time": "2020-11-18T17:35:08.976862",
     "status": "completed"
    },
    "tags": []
   },
   "outputs": [
    {
     "name": "stdout",
     "output_type": "stream",
     "text": [
      "/kaggle/input/mobile-price-classification/test.csv\n",
      "/kaggle/input/mobile-price-classification/train.csv\n"
     ]
    }
   ],
   "source": [
    "# This Python 3 environment comes with many helpful analytics libraries installed\n",
    "# It is defined by the kaggle/python Docker image: https://github.com/kaggle/docker-python\n",
    "# For example, here's several helpful packages to load\n",
    "\n",
    "import numpy as np # linear algebra\n",
    "import pandas as pd # data processing, CSV file I/O (e.g. pd.read_csv)\n",
    "\n",
    "# Input data files are available in the read-only \"../input/\" directory\n",
    "# For example, running this (by clicking run or pressing Shift+Enter) will list all files under the input directory\n",
    "\n",
    "import os\n",
    "for dirname, _, filenames in os.walk('/kaggle/input'):\n",
    "    for filename in filenames:\n",
    "        print(os.path.join(dirname, filename))\n",
    "\n",
    "# You can write up to 5GB to the current directory (/kaggle/working/) that gets preserved as output when you create a version using \"Save & Run All\" \n",
    "# You can also write temporary files to /kaggle/temp/, but they won't be saved outside of the current session"
   ]
  },
  {
   "cell_type": "markdown",
   "metadata": {
    "papermill": {
     "duration": 0.021568,
     "end_time": "2020-11-18T17:35:09.061886",
     "exception": false,
     "start_time": "2020-11-18T17:35:09.040318",
     "status": "completed"
    },
    "tags": []
   },
   "source": [
    "# Importing the libraries"
   ]
  },
  {
   "cell_type": "code",
   "execution_count": 2,
   "metadata": {
    "_cell_guid": "79c7e3d0-c299-4dcb-8224-4455121ee9b0",
    "_uuid": "d629ff2d2480ee46fbb7e2d37f6b5fab8052498a",
    "execution": {
     "iopub.execute_input": "2020-11-18T17:35:09.110843Z",
     "iopub.status.busy": "2020-11-18T17:35:09.109980Z",
     "iopub.status.idle": "2020-11-18T17:35:09.113721Z",
     "shell.execute_reply": "2020-11-18T17:35:09.112913Z"
    },
    "papermill": {
     "duration": 0.030173,
     "end_time": "2020-11-18T17:35:09.113849",
     "exception": false,
     "start_time": "2020-11-18T17:35:09.083676",
     "status": "completed"
    },
    "tags": []
   },
   "outputs": [],
   "source": [
    "\n",
    "import numpy as np\n",
    "import matplotlib.pyplot as plt\n",
    "import pandas as pd"
   ]
  },
  {
   "cell_type": "markdown",
   "metadata": {
    "papermill": {
     "duration": 0.021058,
     "end_time": "2020-11-18T17:35:09.156273",
     "exception": false,
     "start_time": "2020-11-18T17:35:09.135215",
     "status": "completed"
    },
    "tags": []
   },
   "source": [
    "# Importing the dataset"
   ]
  },
  {
   "cell_type": "code",
   "execution_count": 3,
   "metadata": {
    "execution": {
     "iopub.execute_input": "2020-11-18T17:35:09.205870Z",
     "iopub.status.busy": "2020-11-18T17:35:09.205040Z",
     "iopub.status.idle": "2020-11-18T17:35:09.238295Z",
     "shell.execute_reply": "2020-11-18T17:35:09.237614Z"
    },
    "papermill": {
     "duration": 0.060823,
     "end_time": "2020-11-18T17:35:09.238431",
     "exception": false,
     "start_time": "2020-11-18T17:35:09.177608",
     "status": "completed"
    },
    "tags": []
   },
   "outputs": [],
   "source": [
    "\n",
    "train = pd.read_csv('../input/mobile-price-classification/train.csv')\n",
    "# test = pd.read_csv('../input/mobile-price-classification/test.csv')\n",
    "\n",
    "X_train = train.drop([\"price_range\"],axis=1)\n",
    "y_train = train[\"price_range\"]"
   ]
  },
  {
   "cell_type": "code",
   "execution_count": 4,
   "metadata": {
    "execution": {
     "iopub.execute_input": "2020-11-18T17:35:09.299712Z",
     "iopub.status.busy": "2020-11-18T17:35:09.298713Z",
     "iopub.status.idle": "2020-11-18T17:35:09.302697Z",
     "shell.execute_reply": "2020-11-18T17:35:09.303547Z"
    },
    "papermill": {
     "duration": 0.043361,
     "end_time": "2020-11-18T17:35:09.303763",
     "exception": false,
     "start_time": "2020-11-18T17:35:09.260402",
     "status": "completed"
    },
    "tags": []
   },
   "outputs": [
    {
     "name": "stdout",
     "output_type": "stream",
     "text": [
      "Index(['battery_power', 'blue', 'clock_speed', 'dual_sim', 'fc', 'four_g',\n",
      "       'int_memory', 'm_dep', 'mobile_wt', 'n_cores', 'pc', 'px_height',\n",
      "       'px_width', 'ram', 'sc_h', 'sc_w', 'talk_time', 'three_g',\n",
      "       'touch_screen', 'wifi', 'price_range'],\n",
      "      dtype='object')\n",
      "   battery_power  blue  clock_speed  dual_sim  fc  four_g  int_memory  m_dep  \\\n",
      "0            842     0          2.2         0   1       0           7    0.6   \n",
      "1           1021     1          0.5         1   0       1          53    0.7   \n",
      "2            563     1          0.5         1   2       1          41    0.9   \n",
      "3            615     1          2.5         0   0       0          10    0.8   \n",
      "4           1821     1          1.2         0  13       1          44    0.6   \n",
      "\n",
      "   mobile_wt  n_cores  ...  px_height  px_width   ram  sc_h  sc_w  talk_time  \\\n",
      "0        188        2  ...         20       756  2549     9     7         19   \n",
      "1        136        3  ...        905      1988  2631    17     3          7   \n",
      "2        145        5  ...       1263      1716  2603    11     2          9   \n",
      "3        131        6  ...       1216      1786  2769    16     8         11   \n",
      "4        141        2  ...       1208      1212  1411     8     2         15   \n",
      "\n",
      "   three_g  touch_screen  wifi  price_range  \n",
      "0        0             0     1            1  \n",
      "1        1             1     0            2  \n",
      "2        1             1     0            2  \n",
      "3        1             0     0            2  \n",
      "4        1             1     0            1  \n",
      "\n",
      "[5 rows x 21 columns]\n"
     ]
    }
   ],
   "source": [
    "print(train.columns)\n",
    "print(train.head())\n",
    "\n"
   ]
  },
  {
   "cell_type": "code",
   "execution_count": 5,
   "metadata": {
    "execution": {
     "iopub.execute_input": "2020-11-18T17:35:09.354603Z",
     "iopub.status.busy": "2020-11-18T17:35:09.353543Z",
     "iopub.status.idle": "2020-11-18T17:35:09.357016Z",
     "shell.execute_reply": "2020-11-18T17:35:09.356298Z"
    },
    "papermill": {
     "duration": 0.030204,
     "end_time": "2020-11-18T17:35:09.357165",
     "exception": false,
     "start_time": "2020-11-18T17:35:09.326961",
     "status": "completed"
    },
    "tags": []
   },
   "outputs": [],
   "source": [
    "# print(test.columns)\n",
    "# print(test.head())"
   ]
  },
  {
   "cell_type": "markdown",
   "metadata": {
    "papermill": {
     "duration": 0.022031,
     "end_time": "2020-11-18T17:35:09.401922",
     "exception": false,
     "start_time": "2020-11-18T17:35:09.379891",
     "status": "completed"
    },
    "tags": []
   },
   "source": [
    "# Analyzing the data"
   ]
  },
  {
   "cell_type": "code",
   "execution_count": 6,
   "metadata": {
    "execution": {
     "iopub.execute_input": "2020-11-18T17:35:09.459776Z",
     "iopub.status.busy": "2020-11-18T17:35:09.453737Z",
     "iopub.status.idle": "2020-11-18T17:35:09.557829Z",
     "shell.execute_reply": "2020-11-18T17:35:09.558448Z"
    },
    "papermill": {
     "duration": 0.133054,
     "end_time": "2020-11-18T17:35:09.558634",
     "exception": false,
     "start_time": "2020-11-18T17:35:09.425580",
     "status": "completed"
    },
    "tags": []
   },
   "outputs": [
    {
     "name": "stdout",
     "output_type": "stream",
     "text": [
      "<class 'pandas.core.frame.DataFrame'>\n",
      "RangeIndex: 2000 entries, 0 to 1999\n",
      "Data columns (total 21 columns):\n",
      " #   Column         Non-Null Count  Dtype  \n",
      "---  ------         --------------  -----  \n",
      " 0   battery_power  2000 non-null   int64  \n",
      " 1   blue           2000 non-null   int64  \n",
      " 2   clock_speed    2000 non-null   float64\n",
      " 3   dual_sim       2000 non-null   int64  \n",
      " 4   fc             2000 non-null   int64  \n",
      " 5   four_g         2000 non-null   int64  \n",
      " 6   int_memory     2000 non-null   int64  \n",
      " 7   m_dep          2000 non-null   float64\n",
      " 8   mobile_wt      2000 non-null   int64  \n",
      " 9   n_cores        2000 non-null   int64  \n",
      " 10  pc             2000 non-null   int64  \n",
      " 11  px_height      2000 non-null   int64  \n",
      " 12  px_width       2000 non-null   int64  \n",
      " 13  ram            2000 non-null   int64  \n",
      " 14  sc_h           2000 non-null   int64  \n",
      " 15  sc_w           2000 non-null   int64  \n",
      " 16  talk_time      2000 non-null   int64  \n",
      " 17  three_g        2000 non-null   int64  \n",
      " 18  touch_screen   2000 non-null   int64  \n",
      " 19  wifi           2000 non-null   int64  \n",
      " 20  price_range    2000 non-null   int64  \n",
      "dtypes: float64(2), int64(19)\n",
      "memory usage: 328.2 KB\n"
     ]
    },
    {
     "data": {
      "text/html": [
       "<div>\n",
       "<style scoped>\n",
       "    .dataframe tbody tr th:only-of-type {\n",
       "        vertical-align: middle;\n",
       "    }\n",
       "\n",
       "    .dataframe tbody tr th {\n",
       "        vertical-align: top;\n",
       "    }\n",
       "\n",
       "    .dataframe thead th {\n",
       "        text-align: right;\n",
       "    }\n",
       "</style>\n",
       "<table border=\"1\" class=\"dataframe\">\n",
       "  <thead>\n",
       "    <tr style=\"text-align: right;\">\n",
       "      <th></th>\n",
       "      <th>battery_power</th>\n",
       "      <th>blue</th>\n",
       "      <th>clock_speed</th>\n",
       "      <th>dual_sim</th>\n",
       "      <th>fc</th>\n",
       "      <th>four_g</th>\n",
       "      <th>int_memory</th>\n",
       "      <th>m_dep</th>\n",
       "      <th>mobile_wt</th>\n",
       "      <th>n_cores</th>\n",
       "      <th>...</th>\n",
       "      <th>px_height</th>\n",
       "      <th>px_width</th>\n",
       "      <th>ram</th>\n",
       "      <th>sc_h</th>\n",
       "      <th>sc_w</th>\n",
       "      <th>talk_time</th>\n",
       "      <th>three_g</th>\n",
       "      <th>touch_screen</th>\n",
       "      <th>wifi</th>\n",
       "      <th>price_range</th>\n",
       "    </tr>\n",
       "  </thead>\n",
       "  <tbody>\n",
       "    <tr>\n",
       "      <th>count</th>\n",
       "      <td>2000.000000</td>\n",
       "      <td>2000.0000</td>\n",
       "      <td>2000.000000</td>\n",
       "      <td>2000.000000</td>\n",
       "      <td>2000.000000</td>\n",
       "      <td>2000.000000</td>\n",
       "      <td>2000.000000</td>\n",
       "      <td>2000.000000</td>\n",
       "      <td>2000.000000</td>\n",
       "      <td>2000.000000</td>\n",
       "      <td>...</td>\n",
       "      <td>2000.000000</td>\n",
       "      <td>2000.000000</td>\n",
       "      <td>2000.000000</td>\n",
       "      <td>2000.000000</td>\n",
       "      <td>2000.000000</td>\n",
       "      <td>2000.000000</td>\n",
       "      <td>2000.000000</td>\n",
       "      <td>2000.000000</td>\n",
       "      <td>2000.000000</td>\n",
       "      <td>2000.000000</td>\n",
       "    </tr>\n",
       "    <tr>\n",
       "      <th>mean</th>\n",
       "      <td>1238.518500</td>\n",
       "      <td>0.4950</td>\n",
       "      <td>1.522250</td>\n",
       "      <td>0.509500</td>\n",
       "      <td>4.309500</td>\n",
       "      <td>0.521500</td>\n",
       "      <td>32.046500</td>\n",
       "      <td>0.501750</td>\n",
       "      <td>140.249000</td>\n",
       "      <td>4.520500</td>\n",
       "      <td>...</td>\n",
       "      <td>645.108000</td>\n",
       "      <td>1251.515500</td>\n",
       "      <td>2124.213000</td>\n",
       "      <td>12.306500</td>\n",
       "      <td>5.767000</td>\n",
       "      <td>11.011000</td>\n",
       "      <td>0.761500</td>\n",
       "      <td>0.503000</td>\n",
       "      <td>0.507000</td>\n",
       "      <td>1.500000</td>\n",
       "    </tr>\n",
       "    <tr>\n",
       "      <th>std</th>\n",
       "      <td>439.418206</td>\n",
       "      <td>0.5001</td>\n",
       "      <td>0.816004</td>\n",
       "      <td>0.500035</td>\n",
       "      <td>4.341444</td>\n",
       "      <td>0.499662</td>\n",
       "      <td>18.145715</td>\n",
       "      <td>0.288416</td>\n",
       "      <td>35.399655</td>\n",
       "      <td>2.287837</td>\n",
       "      <td>...</td>\n",
       "      <td>443.780811</td>\n",
       "      <td>432.199447</td>\n",
       "      <td>1084.732044</td>\n",
       "      <td>4.213245</td>\n",
       "      <td>4.356398</td>\n",
       "      <td>5.463955</td>\n",
       "      <td>0.426273</td>\n",
       "      <td>0.500116</td>\n",
       "      <td>0.500076</td>\n",
       "      <td>1.118314</td>\n",
       "    </tr>\n",
       "    <tr>\n",
       "      <th>min</th>\n",
       "      <td>501.000000</td>\n",
       "      <td>0.0000</td>\n",
       "      <td>0.500000</td>\n",
       "      <td>0.000000</td>\n",
       "      <td>0.000000</td>\n",
       "      <td>0.000000</td>\n",
       "      <td>2.000000</td>\n",
       "      <td>0.100000</td>\n",
       "      <td>80.000000</td>\n",
       "      <td>1.000000</td>\n",
       "      <td>...</td>\n",
       "      <td>0.000000</td>\n",
       "      <td>500.000000</td>\n",
       "      <td>256.000000</td>\n",
       "      <td>5.000000</td>\n",
       "      <td>0.000000</td>\n",
       "      <td>2.000000</td>\n",
       "      <td>0.000000</td>\n",
       "      <td>0.000000</td>\n",
       "      <td>0.000000</td>\n",
       "      <td>0.000000</td>\n",
       "    </tr>\n",
       "    <tr>\n",
       "      <th>25%</th>\n",
       "      <td>851.750000</td>\n",
       "      <td>0.0000</td>\n",
       "      <td>0.700000</td>\n",
       "      <td>0.000000</td>\n",
       "      <td>1.000000</td>\n",
       "      <td>0.000000</td>\n",
       "      <td>16.000000</td>\n",
       "      <td>0.200000</td>\n",
       "      <td>109.000000</td>\n",
       "      <td>3.000000</td>\n",
       "      <td>...</td>\n",
       "      <td>282.750000</td>\n",
       "      <td>874.750000</td>\n",
       "      <td>1207.500000</td>\n",
       "      <td>9.000000</td>\n",
       "      <td>2.000000</td>\n",
       "      <td>6.000000</td>\n",
       "      <td>1.000000</td>\n",
       "      <td>0.000000</td>\n",
       "      <td>0.000000</td>\n",
       "      <td>0.750000</td>\n",
       "    </tr>\n",
       "    <tr>\n",
       "      <th>50%</th>\n",
       "      <td>1226.000000</td>\n",
       "      <td>0.0000</td>\n",
       "      <td>1.500000</td>\n",
       "      <td>1.000000</td>\n",
       "      <td>3.000000</td>\n",
       "      <td>1.000000</td>\n",
       "      <td>32.000000</td>\n",
       "      <td>0.500000</td>\n",
       "      <td>141.000000</td>\n",
       "      <td>4.000000</td>\n",
       "      <td>...</td>\n",
       "      <td>564.000000</td>\n",
       "      <td>1247.000000</td>\n",
       "      <td>2146.500000</td>\n",
       "      <td>12.000000</td>\n",
       "      <td>5.000000</td>\n",
       "      <td>11.000000</td>\n",
       "      <td>1.000000</td>\n",
       "      <td>1.000000</td>\n",
       "      <td>1.000000</td>\n",
       "      <td>1.500000</td>\n",
       "    </tr>\n",
       "    <tr>\n",
       "      <th>75%</th>\n",
       "      <td>1615.250000</td>\n",
       "      <td>1.0000</td>\n",
       "      <td>2.200000</td>\n",
       "      <td>1.000000</td>\n",
       "      <td>7.000000</td>\n",
       "      <td>1.000000</td>\n",
       "      <td>48.000000</td>\n",
       "      <td>0.800000</td>\n",
       "      <td>170.000000</td>\n",
       "      <td>7.000000</td>\n",
       "      <td>...</td>\n",
       "      <td>947.250000</td>\n",
       "      <td>1633.000000</td>\n",
       "      <td>3064.500000</td>\n",
       "      <td>16.000000</td>\n",
       "      <td>9.000000</td>\n",
       "      <td>16.000000</td>\n",
       "      <td>1.000000</td>\n",
       "      <td>1.000000</td>\n",
       "      <td>1.000000</td>\n",
       "      <td>2.250000</td>\n",
       "    </tr>\n",
       "    <tr>\n",
       "      <th>max</th>\n",
       "      <td>1998.000000</td>\n",
       "      <td>1.0000</td>\n",
       "      <td>3.000000</td>\n",
       "      <td>1.000000</td>\n",
       "      <td>19.000000</td>\n",
       "      <td>1.000000</td>\n",
       "      <td>64.000000</td>\n",
       "      <td>1.000000</td>\n",
       "      <td>200.000000</td>\n",
       "      <td>8.000000</td>\n",
       "      <td>...</td>\n",
       "      <td>1960.000000</td>\n",
       "      <td>1998.000000</td>\n",
       "      <td>3998.000000</td>\n",
       "      <td>19.000000</td>\n",
       "      <td>18.000000</td>\n",
       "      <td>20.000000</td>\n",
       "      <td>1.000000</td>\n",
       "      <td>1.000000</td>\n",
       "      <td>1.000000</td>\n",
       "      <td>3.000000</td>\n",
       "    </tr>\n",
       "  </tbody>\n",
       "</table>\n",
       "<p>8 rows × 21 columns</p>\n",
       "</div>"
      ],
      "text/plain": [
       "       battery_power       blue  clock_speed     dual_sim           fc  \\\n",
       "count    2000.000000  2000.0000  2000.000000  2000.000000  2000.000000   \n",
       "mean     1238.518500     0.4950     1.522250     0.509500     4.309500   \n",
       "std       439.418206     0.5001     0.816004     0.500035     4.341444   \n",
       "min       501.000000     0.0000     0.500000     0.000000     0.000000   \n",
       "25%       851.750000     0.0000     0.700000     0.000000     1.000000   \n",
       "50%      1226.000000     0.0000     1.500000     1.000000     3.000000   \n",
       "75%      1615.250000     1.0000     2.200000     1.000000     7.000000   \n",
       "max      1998.000000     1.0000     3.000000     1.000000    19.000000   \n",
       "\n",
       "            four_g   int_memory        m_dep    mobile_wt      n_cores  ...  \\\n",
       "count  2000.000000  2000.000000  2000.000000  2000.000000  2000.000000  ...   \n",
       "mean      0.521500    32.046500     0.501750   140.249000     4.520500  ...   \n",
       "std       0.499662    18.145715     0.288416    35.399655     2.287837  ...   \n",
       "min       0.000000     2.000000     0.100000    80.000000     1.000000  ...   \n",
       "25%       0.000000    16.000000     0.200000   109.000000     3.000000  ...   \n",
       "50%       1.000000    32.000000     0.500000   141.000000     4.000000  ...   \n",
       "75%       1.000000    48.000000     0.800000   170.000000     7.000000  ...   \n",
       "max       1.000000    64.000000     1.000000   200.000000     8.000000  ...   \n",
       "\n",
       "         px_height     px_width          ram         sc_h         sc_w  \\\n",
       "count  2000.000000  2000.000000  2000.000000  2000.000000  2000.000000   \n",
       "mean    645.108000  1251.515500  2124.213000    12.306500     5.767000   \n",
       "std     443.780811   432.199447  1084.732044     4.213245     4.356398   \n",
       "min       0.000000   500.000000   256.000000     5.000000     0.000000   \n",
       "25%     282.750000   874.750000  1207.500000     9.000000     2.000000   \n",
       "50%     564.000000  1247.000000  2146.500000    12.000000     5.000000   \n",
       "75%     947.250000  1633.000000  3064.500000    16.000000     9.000000   \n",
       "max    1960.000000  1998.000000  3998.000000    19.000000    18.000000   \n",
       "\n",
       "         talk_time      three_g  touch_screen         wifi  price_range  \n",
       "count  2000.000000  2000.000000   2000.000000  2000.000000  2000.000000  \n",
       "mean     11.011000     0.761500      0.503000     0.507000     1.500000  \n",
       "std       5.463955     0.426273      0.500116     0.500076     1.118314  \n",
       "min       2.000000     0.000000      0.000000     0.000000     0.000000  \n",
       "25%       6.000000     1.000000      0.000000     0.000000     0.750000  \n",
       "50%      11.000000     1.000000      1.000000     1.000000     1.500000  \n",
       "75%      16.000000     1.000000      1.000000     1.000000     2.250000  \n",
       "max      20.000000     1.000000      1.000000     1.000000     3.000000  \n",
       "\n",
       "[8 rows x 21 columns]"
      ]
     },
     "execution_count": 6,
     "metadata": {},
     "output_type": "execute_result"
    }
   ],
   "source": [
    "train.info()\n",
    "train.describe()"
   ]
  },
  {
   "cell_type": "code",
   "execution_count": 7,
   "metadata": {
    "execution": {
     "iopub.execute_input": "2020-11-18T17:35:09.612511Z",
     "iopub.status.busy": "2020-11-18T17:35:09.611723Z",
     "iopub.status.idle": "2020-11-18T17:35:10.597144Z",
     "shell.execute_reply": "2020-11-18T17:35:10.596342Z"
    },
    "papermill": {
     "duration": 1.014647,
     "end_time": "2020-11-18T17:35:10.597289",
     "exception": false,
     "start_time": "2020-11-18T17:35:09.582642",
     "status": "completed"
    },
    "tags": []
   },
   "outputs": [],
   "source": [
    "from sklearn.preprocessing import MinMaxScaler\n",
    "sc = MinMaxScaler()\n",
    "X_train = sc.fit_transform(X_train)"
   ]
  },
  {
   "cell_type": "markdown",
   "metadata": {
    "papermill": {
     "duration": 0.024113,
     "end_time": "2020-11-18T17:35:10.645555",
     "exception": false,
     "start_time": "2020-11-18T17:35:10.621442",
     "status": "completed"
    },
    "tags": []
   },
   "source": [
    "# Splitting the dataset into the Training set and Test set"
   ]
  },
  {
   "cell_type": "code",
   "execution_count": 8,
   "metadata": {
    "execution": {
     "iopub.execute_input": "2020-11-18T17:35:10.699468Z",
     "iopub.status.busy": "2020-11-18T17:35:10.698326Z",
     "iopub.status.idle": "2020-11-18T17:35:10.701901Z",
     "shell.execute_reply": "2020-11-18T17:35:10.701188Z"
    },
    "papermill": {
     "duration": 0.032541,
     "end_time": "2020-11-18T17:35:10.702026",
     "exception": false,
     "start_time": "2020-11-18T17:35:10.669485",
     "status": "completed"
    },
    "tags": []
   },
   "outputs": [],
   "source": [
    "# from sklearn.model_selection import train_test_split\n",
    "# X_train1, X_test1, y_train1, y_test1 = train_test_split(X_train, y_train, test_size = 0.3, random_state = 0)"
   ]
  },
  {
   "cell_type": "code",
   "execution_count": 9,
   "metadata": {
    "execution": {
     "iopub.execute_input": "2020-11-18T17:35:10.756078Z",
     "iopub.status.busy": "2020-11-18T17:35:10.755023Z",
     "iopub.status.idle": "2020-11-18T17:35:10.758050Z",
     "shell.execute_reply": "2020-11-18T17:35:10.758637Z"
    },
    "papermill": {
     "duration": 0.032472,
     "end_time": "2020-11-18T17:35:10.758804",
     "exception": false,
     "start_time": "2020-11-18T17:35:10.726332",
     "status": "completed"
    },
    "tags": []
   },
   "outputs": [],
   "source": [
    "X_train1 = X_train\n",
    "y_train1 = y_train"
   ]
  },
  {
   "cell_type": "markdown",
   "metadata": {
    "papermill": {
     "duration": 0.023934,
     "end_time": "2020-11-18T17:35:10.807108",
     "exception": false,
     "start_time": "2020-11-18T17:35:10.783174",
     "status": "completed"
    },
    "tags": []
   },
   "source": [
    "# Fitting logistic regression to the training set"
   ]
  },
  {
   "cell_type": "code",
   "execution_count": 10,
   "metadata": {
    "execution": {
     "iopub.execute_input": "2020-11-18T17:35:10.861556Z",
     "iopub.status.busy": "2020-11-18T17:35:10.860527Z",
     "iopub.status.idle": "2020-11-18T17:35:10.864154Z",
     "shell.execute_reply": "2020-11-18T17:35:10.863396Z"
    },
    "papermill": {
     "duration": 0.032847,
     "end_time": "2020-11-18T17:35:10.864318",
     "exception": false,
     "start_time": "2020-11-18T17:35:10.831471",
     "status": "completed"
    },
    "tags": []
   },
   "outputs": [],
   "source": [
    "import sklearn"
   ]
  },
  {
   "cell_type": "code",
   "execution_count": 11,
   "metadata": {
    "execution": {
     "iopub.execute_input": "2020-11-18T17:35:10.919376Z",
     "iopub.status.busy": "2020-11-18T17:35:10.918512Z",
     "iopub.status.idle": "2020-11-18T17:35:11.237304Z",
     "shell.execute_reply": "2020-11-18T17:35:11.237926Z"
    },
    "papermill": {
     "duration": 0.349032,
     "end_time": "2020-11-18T17:35:11.238077",
     "exception": false,
     "start_time": "2020-11-18T17:35:10.889045",
     "status": "completed"
    },
    "tags": []
   },
   "outputs": [
    {
     "data": {
      "text/plain": [
       "LogisticRegression(random_state=0)"
      ]
     },
     "execution_count": 11,
     "metadata": {},
     "output_type": "execute_result"
    }
   ],
   "source": [
    "from sklearn.linear_model import LogisticRegression\n",
    "classifier = LogisticRegression(random_state=0)\n",
    "classifier.fit(X_train1, y_train1)"
   ]
  },
  {
   "cell_type": "code",
   "execution_count": 12,
   "metadata": {
    "execution": {
     "iopub.execute_input": "2020-11-18T17:35:11.295108Z",
     "iopub.status.busy": "2020-11-18T17:35:11.294276Z",
     "iopub.status.idle": "2020-11-18T17:35:11.297859Z",
     "shell.execute_reply": "2020-11-18T17:35:11.297196Z"
    },
    "papermill": {
     "duration": 0.034419,
     "end_time": "2020-11-18T17:35:11.297986",
     "exception": false,
     "start_time": "2020-11-18T17:35:11.263567",
     "status": "completed"
    },
    "tags": []
   },
   "outputs": [],
   "source": [
    "y_pred_logistic = classifier.predict(X_train1)"
   ]
  },
  {
   "cell_type": "code",
   "execution_count": 13,
   "metadata": {
    "execution": {
     "iopub.execute_input": "2020-11-18T17:35:11.355234Z",
     "iopub.status.busy": "2020-11-18T17:35:11.354242Z",
     "iopub.status.idle": "2020-11-18T17:35:11.360430Z",
     "shell.execute_reply": "2020-11-18T17:35:11.359611Z"
    },
    "papermill": {
     "duration": 0.037125,
     "end_time": "2020-11-18T17:35:11.360597",
     "exception": false,
     "start_time": "2020-11-18T17:35:11.323472",
     "status": "completed"
    },
    "tags": []
   },
   "outputs": [
    {
     "name": "stdout",
     "output_type": "stream",
     "text": [
      "94.7\n"
     ]
    }
   ],
   "source": [
    "acc_logistic = round(classifier.score(X_train1,y_train1) * 100, 2)\n",
    "print(acc_logistic)"
   ]
  },
  {
   "cell_type": "code",
   "execution_count": 14,
   "metadata": {
    "execution": {
     "iopub.execute_input": "2020-11-18T17:35:11.418943Z",
     "iopub.status.busy": "2020-11-18T17:35:11.418009Z",
     "iopub.status.idle": "2020-11-18T17:35:11.423272Z",
     "shell.execute_reply": "2020-11-18T17:35:11.422585Z"
    },
    "papermill": {
     "duration": 0.036519,
     "end_time": "2020-11-18T17:35:11.423419",
     "exception": false,
     "start_time": "2020-11-18T17:35:11.386900",
     "status": "completed"
    },
    "tags": []
   },
   "outputs": [
    {
     "data": {
      "text/plain": [
       "(4, 20)"
      ]
     },
     "execution_count": 14,
     "metadata": {},
     "output_type": "execute_result"
    }
   ],
   "source": [
    "classifier.coef_.shape"
   ]
  },
  {
   "cell_type": "code",
   "execution_count": 15,
   "metadata": {
    "execution": {
     "iopub.execute_input": "2020-11-18T17:35:11.485313Z",
     "iopub.status.busy": "2020-11-18T17:35:11.484120Z",
     "iopub.status.idle": "2020-11-18T17:35:11.487210Z",
     "shell.execute_reply": "2020-11-18T17:35:11.486607Z"
    },
    "papermill": {
     "duration": 0.034541,
     "end_time": "2020-11-18T17:35:11.487365",
     "exception": false,
     "start_time": "2020-11-18T17:35:11.452824",
     "status": "completed"
    },
    "tags": []
   },
   "outputs": [],
   "source": [
    "weights = classifier.coef_\n",
    "bias = classifier.intercept_"
   ]
  },
  {
   "cell_type": "code",
   "execution_count": 16,
   "metadata": {
    "execution": {
     "iopub.execute_input": "2020-11-18T17:35:11.551564Z",
     "iopub.status.busy": "2020-11-18T17:35:11.550410Z",
     "iopub.status.idle": "2020-11-18T17:35:11.642834Z",
     "shell.execute_reply": "2020-11-18T17:35:11.642050Z"
    },
    "papermill": {
     "duration": 0.128555,
     "end_time": "2020-11-18T17:35:11.642960",
     "exception": false,
     "start_time": "2020-11-18T17:35:11.514405",
     "status": "completed"
    },
    "tags": []
   },
   "outputs": [],
   "source": [
    "true = 0\n",
    "predictions = []\n",
    "yidx = y_train1.index\n",
    "for j in range(X_train1.shape[0]):\n",
    "    f = [0, 0, 0, 0]\n",
    "    for i in range(4):\n",
    "        f[i] = np.dot(X_train1[j], weights[i]) + bias[i]\n",
    "    pred = f.index(max(f))\n",
    "    if (pred == y_train1[yidx[j]]):\n",
    "        true += 1\n",
    "    predictions.append(pred)"
   ]
  },
  {
   "cell_type": "code",
   "execution_count": 17,
   "metadata": {
    "execution": {
     "iopub.execute_input": "2020-11-18T17:35:11.703076Z",
     "iopub.status.busy": "2020-11-18T17:35:11.701983Z",
     "iopub.status.idle": "2020-11-18T17:35:11.706870Z",
     "shell.execute_reply": "2020-11-18T17:35:11.706226Z"
    },
    "papermill": {
     "duration": 0.037126,
     "end_time": "2020-11-18T17:35:11.706996",
     "exception": false,
     "start_time": "2020-11-18T17:35:11.669870",
     "status": "completed"
    },
    "tags": []
   },
   "outputs": [
    {
     "data": {
      "text/plain": [
       "0.947"
      ]
     },
     "execution_count": 17,
     "metadata": {},
     "output_type": "execute_result"
    }
   ],
   "source": [
    "true / X_train1.shape[0]"
   ]
  },
  {
   "cell_type": "code",
   "execution_count": 18,
   "metadata": {
    "execution": {
     "iopub.execute_input": "2020-11-18T17:35:11.769370Z",
     "iopub.status.busy": "2020-11-18T17:35:11.768441Z",
     "iopub.status.idle": "2020-11-18T17:35:11.773523Z",
     "shell.execute_reply": "2020-11-18T17:35:11.772825Z"
    },
    "papermill": {
     "duration": 0.038879,
     "end_time": "2020-11-18T17:35:11.773652",
     "exception": false,
     "start_time": "2020-11-18T17:35:11.734773",
     "status": "completed"
    },
    "tags": []
   },
   "outputs": [
    {
     "data": {
      "text/plain": [
       "array([-3.77552134e+00, -5.27592314e-03,  1.90354337e-01,  8.60208425e-02,\n",
       "       -1.61934582e-01, -2.55650661e-02, -2.35928032e-01, -3.91485840e-02,\n",
       "        4.24060757e-01,  6.38174281e-02, -2.65893333e-02, -2.74848576e+00,\n",
       "       -2.27565439e+00, -1.55929163e+01, -3.94012158e-02,  5.54680454e-02,\n",
       "       -1.64986910e-01, -9.42610661e-02,  8.84117095e-02,  8.63796477e-02])"
      ]
     },
     "execution_count": 18,
     "metadata": {},
     "output_type": "execute_result"
    }
   ],
   "source": [
    "weights[0]"
   ]
  },
  {
   "cell_type": "code",
   "execution_count": 19,
   "metadata": {
    "execution": {
     "iopub.execute_input": "2020-11-18T17:35:11.835918Z",
     "iopub.status.busy": "2020-11-18T17:35:11.834759Z",
     "iopub.status.idle": "2020-11-18T17:35:11.839681Z",
     "shell.execute_reply": "2020-11-18T17:35:11.838870Z"
    },
    "papermill": {
     "duration": 0.03802,
     "end_time": "2020-11-18T17:35:11.839812",
     "exception": false,
     "start_time": "2020-11-18T17:35:11.801792",
     "status": "completed"
    },
    "tags": []
   },
   "outputs": [
    {
     "data": {
      "text/plain": [
       "(4, 20)"
      ]
     },
     "execution_count": 19,
     "metadata": {},
     "output_type": "execute_result"
    }
   ],
   "source": [
    "weights.shape"
   ]
  },
  {
   "cell_type": "code",
   "execution_count": 20,
   "metadata": {
    "execution": {
     "iopub.execute_input": "2020-11-18T17:35:11.904876Z",
     "iopub.status.busy": "2020-11-18T17:35:11.904026Z",
     "iopub.status.idle": "2020-11-18T17:35:11.907757Z",
     "shell.execute_reply": "2020-11-18T17:35:11.908304Z"
    },
    "papermill": {
     "duration": 0.039121,
     "end_time": "2020-11-18T17:35:11.908472",
     "exception": false,
     "start_time": "2020-11-18T17:35:11.869351",
     "status": "completed"
    },
    "tags": []
   },
   "outputs": [
    {
     "data": {
      "text/plain": [
       "array([ 10.21296344,   4.62282173,  -1.78031472, -13.05547045])"
      ]
     },
     "execution_count": 20,
     "metadata": {},
     "output_type": "execute_result"
    }
   ],
   "source": [
    "bias"
   ]
  },
  {
   "cell_type": "code",
   "execution_count": 21,
   "metadata": {
    "execution": {
     "iopub.execute_input": "2020-11-18T17:35:11.979369Z",
     "iopub.status.busy": "2020-11-18T17:35:11.978520Z",
     "iopub.status.idle": "2020-11-18T17:35:11.982015Z",
     "shell.execute_reply": "2020-11-18T17:35:11.981368Z"
    },
    "papermill": {
     "duration": 0.041045,
     "end_time": "2020-11-18T17:35:11.982141",
     "exception": false,
     "start_time": "2020-11-18T17:35:11.941096",
     "status": "completed"
    },
    "tags": []
   },
   "outputs": [],
   "source": [
    "weightsWithBias = np.zeros((4, 21))\n",
    "for i in range(4):\n",
    "    weightsWithBias[i] = np.append(weights[i],bias[i])"
   ]
  },
  {
   "cell_type": "code",
   "execution_count": 22,
   "metadata": {
    "execution": {
     "iopub.execute_input": "2020-11-18T17:35:12.047382Z",
     "iopub.status.busy": "2020-11-18T17:35:12.046540Z",
     "iopub.status.idle": "2020-11-18T17:35:12.051577Z",
     "shell.execute_reply": "2020-11-18T17:35:12.050778Z"
    },
    "papermill": {
     "duration": 0.039929,
     "end_time": "2020-11-18T17:35:12.051718",
     "exception": false,
     "start_time": "2020-11-18T17:35:12.011789",
     "status": "completed"
    },
    "tags": []
   },
   "outputs": [],
   "source": [
    "np.savetxt(\"weights.csv\", weightsWithBias, delimiter=\",\")"
   ]
  },
  {
   "cell_type": "code",
   "execution_count": null,
   "metadata": {
    "papermill": {
     "duration": 0.030684,
     "end_time": "2020-11-18T17:35:12.112882",
     "exception": false,
     "start_time": "2020-11-18T17:35:12.082198",
     "status": "completed"
    },
    "tags": []
   },
   "outputs": [],
   "source": []
  }
 ],
 "metadata": {
  "kernelspec": {
   "display_name": "Python 3",
   "language": "python",
   "name": "python3"
  },
  "language_info": {
   "codemirror_mode": {
    "name": "ipython",
    "version": 3
   },
   "file_extension": ".py",
   "mimetype": "text/x-python",
   "name": "python",
   "nbconvert_exporter": "python",
   "pygments_lexer": "ipython3",
   "version": "3.7.6"
  },
  "papermill": {
   "duration": 8.06636,
   "end_time": "2020-11-18T17:35:12.250794",
   "environment_variables": {},
   "exception": null,
   "input_path": "__notebook__.ipynb",
   "output_path": "__notebook__.ipynb",
   "parameters": {},
   "start_time": "2020-11-18T17:35:04.184434",
   "version": "2.1.0"
  }
 },
 "nbformat": 4,
 "nbformat_minor": 4
}
